{
 "cells": [
  {
   "cell_type": "code",
   "execution_count": 8,
   "metadata": {},
   "outputs": [],
   "source": [
    "import numpy as np\n",
    "import pandas as pd"
   ]
  },
  {
   "cell_type": "code",
   "execution_count": 9,
   "metadata": {},
   "outputs": [],
   "source": [
    "csv_file_path = \"../data/aby_data.csv\"\n",
    "csv_data = pd.read_csv(csv_file_path)"
   ]
  },
  {
   "cell_type": "code",
   "execution_count": 12,
   "metadata": {},
   "outputs": [
    {
     "name": "stdout",
     "output_type": "stream",
     "text": [
      "          a         b       y1       y2       y3       y4\n",
      "0       1.0  1.000000  0.22150  0.26467  0.19713  0.29720\n",
      "1       2.5  1.000000  0.29921  0.23041  0.19206  0.26945\n",
      "2       3.0  1.000000  0.28578  0.19394  0.18633  0.32662\n",
      "3       2.0  1.000000  0.34750  0.26596  0.22066  0.15434\n",
      "4       1.0  1.000000  0.24827  0.29882  0.26726  0.16673\n",
      "...     ...       ...      ...      ...      ...      ...\n",
      "119976  1.8  1.000000  0.28020  0.23469  0.25267  0.22091\n",
      "119977  2.0  1.000000  0.25072  0.25912  0.20321  0.27420\n",
      "119978  4.0  1.258621  0.16247  0.26454  0.25982  0.30752\n",
      "119979  3.0  1.000000  0.24705  0.17273  0.34145  0.23138\n",
      "119980  4.0  1.000000  0.29943  0.17718  0.31138  0.20627\n",
      "\n",
      "[119981 rows x 6 columns]\n"
     ]
    }
   ],
   "source": [
    "print(csv_data)"
   ]
  },
  {
   "cell_type": "code",
   "execution_count": null,
   "metadata": {},
   "outputs": [],
   "source": []
  }
 ],
 "metadata": {
  "kernelspec": {
   "display_name": "Python 3",
   "language": "python",
   "name": "python3"
  },
  "language_info": {
   "codemirror_mode": {
    "name": "ipython",
    "version": 3
   },
   "file_extension": ".py",
   "mimetype": "text/x-python",
   "name": "python",
   "nbconvert_exporter": "python",
   "pygments_lexer": "ipython3",
   "version": "3.7.6"
  }
 },
 "nbformat": 4,
 "nbformat_minor": 4
}
