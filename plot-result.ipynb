{
 "cells": [
  {
   "cell_type": "code",
   "execution_count": 57,
   "metadata": {
    "collapsed": true
   },
   "outputs": [],
   "source": [
    "import pandas as pd\n",
    "import os\n",
    "import matplotlib.pyplot as plt\n",
    "def search(dirname):\n",
    "    filenames = os.listdir(dirname)\n",
    "    return filenames\n",
    "\n",
    "def parse_result(models):\n",
    "\n",
    "    data_array = []\n",
    "    for model_name in models:\n",
    "        # data = {'it', 'm', 'rmse', 'r2'}\n",
    "        data = dict()\n",
    "        str_arr = model_name.split('-')\n",
    "        it_m = str_arr[0].split('_')\n",
    "        iteration = int(it_m[1].replace('it', ''))\n",
    "        model_num = int(it_m[2].replace('m',''))\n",
    "        rmse = float(str_arr[1])\n",
    "        r2 = float(str_arr[2])\n",
    "\n",
    "        # if model_num > 2:\n",
    "        #     continue\n",
    "        data['it'] = iteration\n",
    "        data['m'] = model_num\n",
    "        data['rmse'] = rmse\n",
    "        data['r2'] = r2\n",
    "        data_array.append(data)\n",
    "\n",
    "    df = pd.DataFrame(data_array)\n",
    "    df = df.sort_values(by=['it'])\n",
    "    result = df.groupby(['it']).mean()\n",
    "    result = result.round(4)\n",
    "    return result"
   ]
  },
  {
   "cell_type": "code",
   "execution_count": 45,
   "outputs": [],
   "source": [
    "models_max_diff = search('torch/rpo_comparison/al_ua_l1_max_diff0.5_n3_b64_e100_lr0.001_it10_R0.002_T1.0/model')\n",
    "df_max_diff = parse_result(models_max_diff)"
   ],
   "metadata": {
    "collapsed": false,
    "pycharm": {
     "name": "#%%\n"
    }
   }
  },
  {
   "cell_type": "code",
   "execution_count": 54,
   "outputs": [
    {
     "name": "stdout",
     "output_type": "stream",
     "text": [
      "    max_diff\n",
      "it          \n",
      "0     0.4205\n",
      "1     0.5178\n",
      "2     0.4337\n",
      "3     0.5960\n",
      "4     0.6669\n",
      "5     0.5235\n",
      "6     0.7206\n",
      "7     0.7449\n",
      "8     0.7778\n",
      "9     0.7894\n",
      "10    0.8091\n"
     ]
    }
   ],
   "source": [
    "selected_columns = df_max_diff[['r2']]\n",
    "result_df = selected_columns.copy()\n",
    "result_df.rename(columns={'r2':'max_diff'}, inplace=True)\n",
    "print(result_df)"
   ],
   "metadata": {
    "collapsed": false,
    "pycharm": {
     "name": "#%%\n"
    }
   }
  },
  {
   "cell_type": "code",
   "execution_count": 56,
   "outputs": [],
   "source": [
    "models_random = search('torch/rpo_comparison/al_ua_l1_random0.5_n3_b64_e100_lr0.001_it10_R0.002_T1.0/model')\n",
    "df_random = parse_result(models_random)\n",
    "result_df['random'] = df_random['r2']\n",
    "\n"
   ],
   "metadata": {
    "collapsed": false,
    "pycharm": {
     "name": "#%%\n"
    }
   }
  },
  {
   "cell_type": "code",
   "execution_count": 62,
   "outputs": [
    {
     "data": {
      "text/plain": "<Figure size 432x288 with 1 Axes>",
      "image/png": "[encoded data removed]"
     },
     "metadata": {
      "needs_background": "light"
     },
     "output_type": "display_data"
    }
   ],
   "source": [
    "\n",
    "# gca stands for 'get current axis'\n",
    "ax = plt.gca()\n",
    "\n",
    "result_df.plot(kind='line',use_index=True,y='max_diff',ax=ax)\n",
    "result_df.plot(kind='line',use_index=True,y='random', color='red', ax=ax)\n",
    "\n",
    "plt.xlabel('Iteration')\n",
    "plt.ylabel('R-squared')\n",
    "\n",
    "plt.savefig('fig1.png', dpi=300)\n",
    "\n",
    "plt.show()"
   ],
   "metadata": {
    "collapsed": false,
    "pycharm": {
     "name": "#%%\n"
    }
   }
  }
 ],
 "metadata": {
  "kernelspec": {
   "display_name": "Python 3",
   "language": "python",
   "name": "python3"
  },
  "language_info": {
   "codemirror_mode": {
    "name": "ipython",
    "version": 2
   },
   "file_extension": ".py",
   "mimetype": "text/x-python",
   "name": "python",
   "nbconvert_exporter": "python",
   "pygments_lexer": "ipython2",
   "version": "2.7.6"
  }
 },
 "nbformat": 4,
 "nbformat_minor": 0
}